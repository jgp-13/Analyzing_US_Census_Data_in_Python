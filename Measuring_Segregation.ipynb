{
 "cells": [
  {
   "cell_type": "code",
   "execution_count": 8,
   "id": "065ba089-718b-4452-8047-d668e1775636",
   "metadata": {},
   "outputs": [],
   "source": [
    "import requests\n",
    "import pandas as pd"
   ]
  },
  {
   "cell_type": "code",
   "execution_count": 5,
   "id": "3414975a-5de7-4013-a935-97c654d574fb",
   "metadata": {},
   "outputs": [
    {
     "name": "stdout",
     "output_type": "stream",
     "text": [
      "[['NAME', 'B01001_001E', 'B03002_003E', 'B03002_004E', 'metropolitan statistical area/micropolitan statistical area'], ['San Francisco-Oakland-Fremont, CA Metro Area', '4348880', '1848583', '346719', '41860'], ['San Germán-Cabo Rojo, PR Metro Area', '137194', '802', '14', '41900'], ['San Jose-Sunnyvale-Santa Clara, CA Metro Area', '1843860', '650273', '43126', '41940'], ['San Juan-Caguas-Guaynabo, PR Metro Area', '2473084', '17978', '2661', '41980']]\n"
     ]
    }
   ],
   "source": [
    "# Build base URL\n",
    "HOST = \"https://api.census.gov/data\"\n",
    "year = \"2012\"\n",
    "dataset = \"acs/acs5\"\n",
    "base_url = \"/\".join([HOST, year, dataset])\n",
    "\n",
    "# Specify requested variables\n",
    "# B01001_001E = Total population (estimate)\n",
    "# B03002_003E = Nonhispanic White population (estimate)\n",
    "# B03002_004E = Nonhispanic Black population (estimate)\n",
    "get_vars = [\"NAME\", \"B01001_001E\", \"B03002_003E\", \"B03002_004E\"]\n",
    "\n",
    "# Specify requested variables\n",
    "get_vars = [\"NAME\", \"B01001_001E\", \"B03002_003E\", \"B03002_004E\"]\n",
    "# Create dictionary of predicates\n",
    "predicates = {}\n",
    "predicates[\"get\"] = \",\".join(get_vars)\n",
    "# Requested geography\n",
    "predicates[\"for\"] = \\\n",
    "            \"metropolitan statistical area/micropolitan statistical area:*\"\n",
    "r = requests.get(base_url, params=predicates)"
   ]
  },
  {
   "cell_type": "code",
   "execution_count": 9,
   "id": "92edea44-1800-4bac-b644-2b35308b5479",
   "metadata": {},
   "outputs": [],
   "source": [
    "# Create user-friendly column names\n",
    "col_names = [\"name\", \"pop\", \"white\", \"black\", \"msa\"]\n",
    "# Load JSON response into DataFrame\n",
    "msa = pd.DataFrame(columns=col_names, data=r.json()[1:])\n",
    "# Cast count columns to int data type\n",
    "msa[[\"pop\", \"white\", \"black\"]] = msa[[\"pop\", \"white\", \"black\"]].astype(int)"
   ]
  },
  {
   "cell_type": "code",
   "execution_count": 12,
   "id": "d9d7ca2c-ea7a-42bd-a9c2-6194d2632d72",
   "metadata": {},
   "outputs": [
    {
     "data": {
      "text/html": [
       "<div>\n",
       "<style scoped>\n",
       "    .dataframe tbody tr th:only-of-type {\n",
       "        vertical-align: middle;\n",
       "    }\n",
       "\n",
       "    .dataframe tbody tr th {\n",
       "        vertical-align: top;\n",
       "    }\n",
       "\n",
       "    .dataframe thead th {\n",
       "        text-align: right;\n",
       "    }\n",
       "</style>\n",
       "<table border=\"1\" class=\"dataframe\">\n",
       "  <thead>\n",
       "    <tr style=\"text-align: right;\">\n",
       "      <th></th>\n",
       "      <th>name</th>\n",
       "      <th>pop</th>\n",
       "      <th>white</th>\n",
       "      <th>black</th>\n",
       "      <th>msa</th>\n",
       "    </tr>\n",
       "  </thead>\n",
       "  <tbody>\n",
       "    <tr>\n",
       "      <th>178</th>\n",
       "      <td>Aberdeen, SD Micro Area</td>\n",
       "      <td>40612</td>\n",
       "      <td>37776</td>\n",
       "      <td>259</td>\n",
       "      <td>10100</td>\n",
       "    </tr>\n",
       "  </tbody>\n",
       "</table>\n",
       "</div>"
      ],
      "text/plain": [
       "                        name    pop  white  black    msa\n",
       "178  Aberdeen, SD Micro Area  40612  37776    259  10100"
      ]
     },
     "execution_count": 12,
     "metadata": {},
     "output_type": "execute_result"
    }
   ],
   "source": [
    "msa[msa['msa']=='10100']"
   ]
  },
  {
   "cell_type": "markdown",
   "id": "157ba230-61e5-4469-90bc-866816adaa7b",
   "metadata": {},
   "source": [
    "## Measuring Segregation\n",
    "Explore racial segregation in America. Calculate the Index of Dissimilarity, and important measure of segregation. Learn about and use Metropolitan Statistical Areas, and important geography for urban research. Study segregation changes over time in Chicago."
   ]
  },
  {
   "cell_type": "markdown",
   "id": "bd265cc3-97c6-44b6-850f-44357b3402ea",
   "metadata": {},
   "source": [
    "#### Calculating D for One State\n",
    "Compute the Index of Dissimilarity for the state of Georgia. The formula for the Index of Dissimilarity is:\n",
    "\n",
    "$$D = \\frac{1}{2}\\sum{\\left\\lvert \\frac{a}{A} - \\frac{b}{B} \\right\\rvert}$$\n",
    "\n",
    "In this case, Group A will be Whites, Group B will be Blacks. $ a $ and $ b $ represent the White and Black population of the small geography (tracts), while $ A $ and $ B $ represent the White and Black population of the larger, containing geography (e.g. Georgia, postal code = GA, FIPS code = 13)."
   ]
  },
  {
   "cell_type": "code",
   "execution_count": 39,
   "id": "8df63b8a-b629-46f6-921c-64af5fd3cc25",
   "metadata": {},
   "outputs": [
    {
     "ename": "NameError",
     "evalue": "name 'tracts' is not defined",
     "output_type": "error",
     "traceback": [
      "\u001b[1;31m---------------------------------------------------------------------------\u001b[0m",
      "\u001b[1;31mNameError\u001b[0m                                 Traceback (most recent call last)",
      "Cell \u001b[1;32mIn[39], line 6\u001b[0m\n\u001b[0;32m      3\u001b[0m b \u001b[38;5;241m=\u001b[39m \u001b[38;5;124m\"\u001b[39m\u001b[38;5;124mblack\u001b[39m\u001b[38;5;124m\"\u001b[39m\n\u001b[0;32m      5\u001b[0m \u001b[38;5;66;03m# Extract Georgia tracts\u001b[39;00m\n\u001b[1;32m----> 6\u001b[0m ga_tracts \u001b[38;5;241m=\u001b[39m \u001b[43mtracts\u001b[49m[tracts[\u001b[38;5;124m'\u001b[39m\u001b[38;5;124mstate\u001b[39m\u001b[38;5;124m'\u001b[39m]\u001b[38;5;241m==\u001b[39m\u001b[38;5;124m'\u001b[39m\u001b[38;5;124m13\u001b[39m\u001b[38;5;124m'\u001b[39m]\n\u001b[0;32m      8\u001b[0m \u001b[38;5;66;03m# Print sums of Black and White residents of Georgia\u001b[39;00m\n\u001b[0;32m      9\u001b[0m \u001b[38;5;28mprint\u001b[39m(ga_tracts[[w,b]]\u001b[38;5;241m.\u001b[39msum())\n",
      "\u001b[1;31mNameError\u001b[0m: name 'tracts' is not defined"
     ]
    }
   ],
   "source": [
    "# Define convenience variables to hold column names\n",
    "w = \"white\"\n",
    "b = \"black\"\n",
    "\n",
    "# Extract Georgia tracts\n",
    "ga_tracts = tracts[tracts['state']=='13']\n",
    "\n",
    "# Print sums of Black and White residents of Georgia\n",
    "print(ga_tracts[[w,b]].sum())\n",
    "\n",
    "# Calculate Index of Dissimilarity and print rounded result\n",
    "w_total = ga_tracts[w].sum()\n",
    "b_total = ga_tracts[b].sum()\n",
    "D = 0.5 * sum(abs(ga_tracts[w] / w_total - ga_tracts[b] / b_total))\n",
    "\n",
    "print(\"Dissimilarity (Georgia):\", round(D, 3))  "
   ]
  },
  {
   "cell_type": "markdown",
   "id": "641fbbe4-0175-48e7-8f24-21b294b12328",
   "metadata": {},
   "source": [
    "#### Calculating D in a Loop\n",
    "Is Georgia's Index of Dissimilarity of 0.544 high or low? Let's compare it to Illinois (FIPS = 17), home of Chicago.\n",
    "\n",
    "In this exercise we will use a loop to calculate $ D$ for all states, then compare Georgia and Illinois."
   ]
  },
  {
   "cell_type": "code",
   "execution_count": null,
   "id": "e345e3c0-0cb6-4545-9cd0-3480d8cab325",
   "metadata": {},
   "outputs": [],
   "source": [
    "# Get list of state FIPS Codes\n",
    "states = list(tracts[\"state\"].unique())\n",
    "\n",
    "state_D = {}  # Initialize dictionary as collector\n",
    "for state in states:\n",
    "    # Filter by state\n",
    "    tmp = tracts[tracts['state']==state]\n",
    "    \n",
    "    # Add Index of Dissimilarity to Dictionary\n",
    "    w_tot = tmp[w].sum()\n",
    "    b_tot =tmp[b].sum()\n",
    "    state_D[state] = 0.5 * sum(abs(tmp[w]/w_tot-tmp[b]/b_tot))\n",
    "\n",
    "# Print D for Georgia (FIPS = 13) and Illinois (FIPS = 17)    \n",
    "print(\"Georgia D =\", round(state_D[\"13\"], 3))\n",
    "print(\"Illinois D =\", round(state_D[\"17\"], 3))"
   ]
  },
  {
   "cell_type": "markdown",
   "id": "1f5c703c-b4a0-4f4e-a74a-f82630918847",
   "metadata": {},
   "source": [
    "#### Calculating D Using Grouping in Pandas\n",
    "Performing a calculation over subsets of a DataFrame is so common that `pandas` gives us an alternative to doing it in a loop, the `groupby` method. In the sample code, `groupby` is used first to group tracts by state, i.e. those rows having the same value in the `\"state\"` column. The `sum()` method is applied by group to the columns."
   ]
  },
  {
   "cell_type": "code",
   "execution_count": null,
   "id": "c06ec876-7c95-40ca-be8c-8ae2baa551b2",
   "metadata": {},
   "outputs": [],
   "source": [
    "# Sum Black and White residents grouped by state\n",
    "sums_by_state = tracts.groupby(\"state\")[[w, b]].sum()\n",
    "print(sums_by_state.head(2))\n",
    "\n",
    "# Drop columns if they already exist to prevent duplicates\n",
    "columns_to_add=['white_sum','black_sum']\n",
    "tracts=tracts.drop(columns=[col for col in columns_to_add if col in tracts], errors='ignore')\n",
    " \n",
    "# Merge the sum with the original tract populations\n",
    "tracts = pd.merge(tracts, sums_by_state, left_on = \"state\", \n",
    "    right_index = True, suffixes = (\"\", \"_sum\"))\n",
    "print(tracts.head(2))"
   ]
  }
 ],
 "metadata": {
  "kernelspec": {
   "display_name": "Python 3 (ipykernel)",
   "language": "python",
   "name": "python3"
  },
  "language_info": {
   "codemirror_mode": {
    "name": "ipython",
    "version": 3
   },
   "file_extension": ".py",
   "mimetype": "text/x-python",
   "name": "python",
   "nbconvert_exporter": "python",
   "pygments_lexer": "ipython3",
   "version": "3.11.10"
  }
 },
 "nbformat": 4,
 "nbformat_minor": 5
}
