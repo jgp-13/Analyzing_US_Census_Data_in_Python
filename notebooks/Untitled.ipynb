{
 "cells": [
  {
   "cell_type": "code",
   "execution_count": 133,
   "id": "9559c715-f6ff-4765-9300-50ad00caf51a",
   "metadata": {},
   "outputs": [],
   "source": [
    "import requests\n",
    "import pandas as pd\n",
    "import os"
   ]
  },
  {
   "cell_type": "code",
   "execution_count": 134,
   "id": "e30d84fb-35d9-4969-af73-f188a91f714d",
   "metadata": {},
   "outputs": [
    {
     "name": "stdout",
     "output_type": "stream",
     "text": [
      "Current Working Directory: C:\\Users\\josue\\Documents\\Python\\projects\\Analyzing_US_Census_Data_in_Python\\notebooks\n",
      "Resolved Data Path: C:\\Users\\josue\\Documents\\Python\\projects\\Analyzing_US_Census_Data_in_Python\\data\n"
     ]
    }
   ],
   "source": [
    "# Get the current working directory\n",
    "cwd = os.getcwd()\n",
    "print(f\"Current Working Directory: {cwd}\")\n",
    "\n",
    "# Define the relative path to states.csv\n",
    "data_path = os.path.join(cwd, '..', 'data')\n",
    "\n",
    "# Normalize path to avoid issues\n",
    "data_path = os.path.abspath(data_path)\n",
    "print(f\"Resolved Data Path: {data_path}\")"
   ]
  },
  {
   "cell_type": "code",
   "execution_count": 135,
   "id": "2245b0fc-30b8-4247-a37d-c73dbb90624f",
   "metadata": {},
   "outputs": [],
   "source": [
    "# API endpoint\n",
    "HOST = \"https://api.census.gov/data\"\n",
    "year = \"2012\"  # Adjust the year if necessary\n",
    "dataset = \"acs/acs5\"\n",
    "base_url = \"/\".join([HOST, year, dataset])\n",
    "\n",
    "# Specify the variables you want\n",
    "get_vars = [\"NAME\"]  # Use state_code and county_code\n",
    "\n",
    "# My api_key is already in place\n",
    "# api_key = 'YOUR_API_KEY'  # Your API Key here\n",
    "\n",
    "# Create dictionary of predicates\n",
    "predicates = {\n",
    "    \"get\": \",\".join(get_vars),\n",
    "    \"for\":\"metropolitan statistical area/micropolitan statistical area:*\", \n",
    "    \"key\": api_key  # Include your API key here\n",
    "}\n",
    "\n",
    "# Make the request\n",
    "r = requests.get(base_url, params=predicates)\n",
    "\n",
    "# Create user-friendly column names\n",
    "col_names = [\"name\",\"msa\"]\n",
    "# Load JSON response into DataFrame\n",
    "msa_names = pd.DataFrame(columns=col_names, data=r.json()[1:])"
   ]
  },
  {
   "cell_type": "code",
   "execution_count": 136,
   "id": "4a418e8b-464a-4a50-8a92-8e434a813a84",
   "metadata": {},
   "outputs": [],
   "source": [
    "# Define the file path for the CSV file\n",
    "csv_file = data_path + '\\\\cbsa2fipsxw.csv'\n",
    "\n",
    "# Read the CSV file into a DataFrame\n",
    "msa_cs = pd.read_csv(csv_file)\n",
    "\n",
    "# Select relevant columns from the CSV data for further analysis\n",
    "msa_cs = msa_cs[['cbsacode', 'countycountyequivalent', 'statename', 'fipscountycode', 'fipsstatecode']]\n",
    "\n",
    "# Rename columns to more meaningful names for better readability\n",
    "msa_cs.columns = ['msa', 'county_name', 'state_name', 'county', 'state']\n",
    "\n",
    "# Convert numeric columns to strings with leading zeros to match required lengths\n",
    "msa_cs['msa'] = msa_cs['msa'].astype('str').str.zfill(5)   # MSA code as a 5-digit string\n",
    "msa_cs['county'] = msa_cs['county'].astype('str').str.zfill(3)  # County code as a 3-digit string\n",
    "msa_cs['state'] = msa_cs['state'].astype('str').str.zfill(2)  # State code as a 2-digit string\n",
    "\n",
    "# Merge the county-state DataFrame with the names \n",
    "# Use a left join to retain all data from msa_cs and match on 'msa'\n",
    "msa_def = msa_cs.merge(msa_names, on='msa', how='left')\n",
    "\n",
    "# Reorganize and rename columns for final output\n",
    "# Select and reorder columns to have them in a desired format\n",
    "msa_def = msa_def[['msa', 'name', 'county_name', 'state_name', 'state', 'county']]\n",
    "\n",
    "# Rename columns for clarity in final DataFrame\n",
    "msa_def.columns = ['msa', 'msa_name', 'county_name', 'state_name', 'state', 'county']\n"
   ]
  },
  {
   "cell_type": "code",
   "execution_count": null,
   "id": "e130d9e6-0fdc-41d2-9a5f-80fe10febf36",
   "metadata": {},
   "outputs": [],
   "source": []
  }
 ],
 "metadata": {
  "kernelspec": {
   "display_name": "Python 3 (ipykernel)",
   "language": "python",
   "name": "python3"
  },
  "language_info": {
   "codemirror_mode": {
    "name": "ipython",
    "version": 3
   },
   "file_extension": ".py",
   "mimetype": "text/x-python",
   "name": "python",
   "nbconvert_exporter": "python",
   "pygments_lexer": "ipython3",
   "version": "3.11.10"
  }
 },
 "nbformat": 4,
 "nbformat_minor": 5
}
